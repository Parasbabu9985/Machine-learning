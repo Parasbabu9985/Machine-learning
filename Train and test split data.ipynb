{
 "cells": [
  {
   "cell_type": "code",
   "execution_count": 1,
   "id": "7cc6d84b-9075-4abf-8ac4-bdedfb1af7fb",
   "metadata": {},
   "outputs": [],
   "source": [
    "import pandas as pd\n",
    " "
   ]
  },
  {
   "cell_type": "code",
   "execution_count": 2,
   "id": "c1c06e1f-3e0c-48e5-8968-8def04a5dbfd",
   "metadata": {},
   "outputs": [
    {
     "data": {
      "text/html": [
       "<div>\n",
       "<style scoped>\n",
       "    .dataframe tbody tr th:only-of-type {\n",
       "        vertical-align: middle;\n",
       "    }\n",
       "\n",
       "    .dataframe tbody tr th {\n",
       "        vertical-align: top;\n",
       "    }\n",
       "\n",
       "    .dataframe thead th {\n",
       "        text-align: right;\n",
       "    }\n",
       "</style>\n",
       "<table border=\"1\" class=\"dataframe\">\n",
       "  <thead>\n",
       "    <tr style=\"text-align: right;\">\n",
       "      <th></th>\n",
       "      <th>CRIM</th>\n",
       "      <th>ZN</th>\n",
       "      <th>INDUS</th>\n",
       "      <th>CHAS</th>\n",
       "      <th>NOX</th>\n",
       "      <th>RM</th>\n",
       "      <th>AGE</th>\n",
       "      <th>DIS</th>\n",
       "      <th>RAD</th>\n",
       "      <th>TAX</th>\n",
       "      <th>PTRATIO</th>\n",
       "      <th>B</th>\n",
       "      <th>LSTAT</th>\n",
       "      <th>House_Price</th>\n",
       "    </tr>\n",
       "  </thead>\n",
       "  <tbody>\n",
       "    <tr>\n",
       "      <th>0</th>\n",
       "      <td>0.00632</td>\n",
       "      <td>18.0</td>\n",
       "      <td>2.31</td>\n",
       "      <td>0</td>\n",
       "      <td>0.538</td>\n",
       "      <td>6.575</td>\n",
       "      <td>65.2</td>\n",
       "      <td>4.0900</td>\n",
       "      <td>1</td>\n",
       "      <td>296</td>\n",
       "      <td>15.3</td>\n",
       "      <td>396.90</td>\n",
       "      <td>4.98</td>\n",
       "      <td>24.0</td>\n",
       "    </tr>\n",
       "    <tr>\n",
       "      <th>1</th>\n",
       "      <td>0.02731</td>\n",
       "      <td>0.0</td>\n",
       "      <td>7.07</td>\n",
       "      <td>0</td>\n",
       "      <td>0.469</td>\n",
       "      <td>6.421</td>\n",
       "      <td>78.9</td>\n",
       "      <td>4.9671</td>\n",
       "      <td>2</td>\n",
       "      <td>242</td>\n",
       "      <td>17.8</td>\n",
       "      <td>396.90</td>\n",
       "      <td>9.14</td>\n",
       "      <td>21.6</td>\n",
       "    </tr>\n",
       "    <tr>\n",
       "      <th>2</th>\n",
       "      <td>0.02729</td>\n",
       "      <td>0.0</td>\n",
       "      <td>7.07</td>\n",
       "      <td>0</td>\n",
       "      <td>0.469</td>\n",
       "      <td>7.185</td>\n",
       "      <td>61.1</td>\n",
       "      <td>4.9671</td>\n",
       "      <td>2</td>\n",
       "      <td>242</td>\n",
       "      <td>17.8</td>\n",
       "      <td>392.83</td>\n",
       "      <td>4.03</td>\n",
       "      <td>34.7</td>\n",
       "    </tr>\n",
       "  </tbody>\n",
       "</table>\n",
       "</div>"
      ],
      "text/plain": [
       "      CRIM    ZN  INDUS  CHAS    NOX     RM   AGE     DIS  RAD  TAX  PTRATIO  \\\n",
       "0  0.00632  18.0   2.31     0  0.538  6.575  65.2  4.0900    1  296     15.3   \n",
       "1  0.02731   0.0   7.07     0  0.469  6.421  78.9  4.9671    2  242     17.8   \n",
       "2  0.02729   0.0   7.07     0  0.469  7.185  61.1  4.9671    2  242     17.8   \n",
       "\n",
       "        B  LSTAT  House_Price  \n",
       "0  396.90   4.98         24.0  \n",
       "1  396.90   9.14         21.6  \n",
       "2  392.83   4.03         34.7  "
      ]
     },
     "execution_count": 2,
     "metadata": {},
     "output_type": "execute_result"
    }
   ],
   "source": [
    "dataset=pd.read_csv(\"Boston.csv\")\n",
    "dataset.head(3)"
   ]
  },
  {
   "cell_type": "code",
   "execution_count": 10,
   "id": "87d79ebb-6551-496a-8602-0a96268e8733",
   "metadata": {},
   "outputs": [
    {
     "data": {
      "text/plain": [
       "(16, 14)"
      ]
     },
     "execution_count": 10,
     "metadata": {},
     "output_type": "execute_result"
    }
   ],
   "source": [
    "dataset.shape"
   ]
  },
  {
   "cell_type": "code",
   "execution_count": 5,
   "id": "b642c7f1-b756-4d1f-bc7c-b2f31264c451",
   "metadata": {},
   "outputs": [],
   "source": [
    "input_data=dataset.iloc[:,:-1]\n",
    "output_data=dataset[\"House_Price\"]"
   ]
  },
  {
   "cell_type": "code",
   "execution_count": 7,
   "id": "919e7c4b-cbf5-47c4-9933-c57f24b73c5e",
   "metadata": {},
   "outputs": [],
   "source": [
    "from sklearn.model_selection import train_test_split\n"
   ]
  },
  {
   "cell_type": "code",
   "execution_count": 8,
   "id": "ad122a51-c65f-472a-b03c-4cb1e5290dec",
   "metadata": {},
   "outputs": [],
   "source": [
    "x_train,x_test,y_train,y_test=train_test_split(input_data,output_data,test_size=0.25)"
   ]
  },
  {
   "cell_type": "code",
   "execution_count": 11,
   "id": "13c03a9a-9bd6-47ee-8198-4fda31ccc418",
   "metadata": {},
   "outputs": [
    {
     "data": {
      "text/plain": [
       "(       CRIM    ZN  INDUS  CHAS    NOX     RM   AGE     DIS  RAD  TAX  PTRATIO  \\\n",
       " 11  0.11747  12.5   7.87     0  0.524  6.009  82.9  6.2267    5  311     15.2   \n",
       " 14  0.63796   0.0   8.14     0  0.538  6.096  84.5  4.4619    4  307     21.0   \n",
       " 0   0.00632  18.0   2.31     0  0.538  6.575  65.2  4.0900    1  296     15.3   \n",
       " 3   0.03237   0.0   2.18     0  0.458  6.998  45.8  6.0622    3  222     18.7   \n",
       " 4   0.06905   0.0   2.18     0  0.458  7.147  54.2  6.0622    3  222     18.7   \n",
       " 13  0.62976   0.0   8.14     0  0.538  5.949  61.8  4.7075    4  307     21.0   \n",
       " 12  0.09378  12.5   7.87     0  0.524  5.889  39.0  5.4509    5  311     15.2   \n",
       " 7   0.14455  12.5   7.87     0  0.524  6.172  96.1  5.9505    5  311     15.2   \n",
       " 10  0.22489  12.5   7.87     0  0.524  6.377  94.3  6.3467    5  311     15.2   \n",
       " 2   0.02729   0.0   7.07     0  0.469  7.185  61.1  4.9671    2  242     17.8   \n",
       " 15  0.62739   0.0   8.14     0  0.538  5.834  56.5  4.4986    4  307     21.0   \n",
       " 5   0.02985   0.0   2.18     0  0.458  6.430  58.7  6.0622    3  222     18.7   \n",
       " \n",
       "          B  LSTAT  \n",
       " 11  396.90  13.27  \n",
       " 14  380.02  10.26  \n",
       " 0   396.90   4.98  \n",
       " 3   394.63   2.94  \n",
       " 4   396.90   5.33  \n",
       " 13  396.90   8.26  \n",
       " 12  390.50  15.71  \n",
       " 7   396.90  19.15  \n",
       " 10  392.52  20.45  \n",
       " 2   392.83   4.03  \n",
       " 15  395.62   8.47  \n",
       " 5   394.12   5.21  ,\n",
       "       CRIM    ZN  INDUS  CHAS    NOX     RM    AGE     DIS  RAD  TAX  PTRATIO  \\\n",
       " 8  0.21124  12.5   7.87     0  0.524  5.631  100.0  6.0821    5  311     15.2   \n",
       " 6  0.08829  12.5   7.87     0  0.524  6.012   66.6  5.5605    5  311     15.2   \n",
       " 1  0.02731   0.0   7.07     0  0.469  6.421   78.9  4.9671    2  242     17.8   \n",
       " 9  0.17004  12.5   7.87     0  0.524  6.004   85.9  6.5921    5  311     15.2   \n",
       " \n",
       "         B  LSTAT  \n",
       " 8  386.63  29.93  \n",
       " 6  395.60  12.43  \n",
       " 1  396.90   9.14  \n",
       " 9  386.71  17.10  ,\n",
       " 11    18.9\n",
       " 14    18.2\n",
       " 0     24.0\n",
       " 3     33.4\n",
       " 4     36.2\n",
       " 13    20.4\n",
       " 12    21.7\n",
       " 7     27.1\n",
       " 10    15.0\n",
       " 2     34.7\n",
       " 15    19.9\n",
       " 5     28.7\n",
       " Name: House_Price, dtype: float64,\n",
       " 8    16.5\n",
       " 6    22.9\n",
       " 1    21.6\n",
       " 9    18.9\n",
       " Name: House_Price, dtype: float64)"
      ]
     },
     "execution_count": 11,
     "metadata": {},
     "output_type": "execute_result"
    }
   ],
   "source": [
    "x_train,x_test,y_train,y_test"
   ]
  },
  {
   "cell_type": "code",
   "execution_count": 12,
   "id": "7e4fe653-6ba0-4021-834b-1c44e4073d5e",
   "metadata": {},
   "outputs": [
    {
     "data": {
      "text/plain": [
       "(16, 14)"
      ]
     },
     "execution_count": 12,
     "metadata": {},
     "output_type": "execute_result"
    }
   ],
   "source": [
    "dataset.shape"
   ]
  },
  {
   "cell_type": "code",
   "execution_count": null,
   "id": "3aa7e61d-c88b-42d3-918f-1a9e45aa81e6",
   "metadata": {},
   "outputs": [],
   "source": []
  }
 ],
 "metadata": {
  "kernelspec": {
   "display_name": "Python 3 (ipykernel)",
   "language": "python",
   "name": "python3"
  },
  "language_info": {
   "codemirror_mode": {
    "name": "ipython",
    "version": 3
   },
   "file_extension": ".py",
   "mimetype": "text/x-python",
   "name": "python",
   "nbconvert_exporter": "python",
   "pygments_lexer": "ipython3",
   "version": "3.13.5"
  }
 },
 "nbformat": 4,
 "nbformat_minor": 5
}
